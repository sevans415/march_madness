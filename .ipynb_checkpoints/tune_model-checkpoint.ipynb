{
 "cells": [
  {
   "cell_type": "code",
   "execution_count": 36,
   "metadata": {
    "collapsed": false
   },
   "outputs": [],
   "source": [
    "import pandas as pd\n",
    "from sklearn.linear_model import LogisticRegression as LogReg\n",
    "from sklearn.preprocessing import StandardScaler\n",
    "import numpy as np"
   ]
  },
  {
   "cell_type": "code",
   "execution_count": 2,
   "metadata": {
    "collapsed": true
   },
   "outputs": [],
   "source": [
    "import march_madness_games as mmg"
   ]
  },
  {
   "cell_type": "code",
   "execution_count": 1,
   "metadata": {
    "collapsed": true
   },
   "outputs": [],
   "source": [
    "teams = pd.read_csv(\"datasets/kaggle_data/Teams.csv\")\n",
    "seeds = pd.read_csv(\"datasets/kaggle_data/TourneySeeds.csv\")\n",
    "slots = pd.read_csv(\"datasets/kaggle_data/TourneySlots.csv\")\n",
    "tourney_data = pd.read_csv(\"datasets/kaggle_data/TourneyCompactResults.csv\")\n",
    "regular_data = pd.read_csv(\"datasets/kaggle_data/RegularSeasonCompactResults.csv\")\n",
    "\n",
    "\n",
    "stationary = pd.read_csv(\"datasets/our_data/stationary\", index_col =0)\n",
    "avg_points_against =  pd.read_csv(\"datasets/our_data/avg_points_against\", index_col =0)\n",
    "avg_points_for = pd.read_csv(\"datasets/our_data/avg_points_for\", index_col =0)\n",
    "away_wins = pd.read_csv(\"datasets/our_data/away_wins\", index_col =0)\n",
    "bad_losses = pd.read_csv(\"datasets/our_data/bad_losses\", index_col =0)\n",
    "consistency= pd.read_csv(\"datasets/our_data/consistency\", index_col =0)\n",
    "dominance= pd.read_csv(\"datasets/our_data/dominance\", index_col =0)\n",
    "good_wins_matrix= pd.read_csv(\"datasets/our_data/good_wins_matrix\", index_col =0)\n",
    "rpi= pd.read_csv(\"datasets/our_data/rpi\", index_col =0)\n",
    "tough_wins= pd.read_csv(\"datasets/our_data/tough_wins\", index_col =0)\n",
    "win_percentage= pd.read_csv(\"datasets/our_data/win_percentage\", index_col =0)\n",
    "win_percentage_vs_tourney_teams_matrix= pd.read_csv(\"datasets/our_data/win_percentage_vs_tourney_teams_matrix\", index_col =0)\n",
    "wins_vs_tourney_teams= pd.read_csv(\"datasets/our_data/wins_vs_tourney_teams\", index_col =0)\n",
    "\n",
    "tourney_arr = mmg.filter_into_seasons(tourney_data)\n",
    "regular_arr = mmg.filter_into_seasons(regular_data)\n",
    "seeds_arr = mmg.filter_into_seasons(seeds)\n",
    "slots_arr = mmg.filter_into_seasons(slots)\n",
    "\n",
    "column_names = [\"min_index_id\", \"max_index_id\", \"wins_vs_tourney_teams dif\", \"stationary dif\"]\n",
    "\n",
    "predictor_dfs = [wins_vs_tourney_teams, stationary]\n",
    "\n",
    "window = 3\n",
    "test_yr = 2004\n",
    "\n",
    "def train_test_split(window, test_yr):\n",
    "    x_train, y_train = mmg.generate_multiple_years_of_games(range(test_yr - window, test_yr),\n",
    "                                     seeds_arr, \n",
    "                                     slots_arr, \n",
    "                                     tourney_arr, \n",
    "                                     column_names, \n",
    "                                     predictor_dfs\n",
    "                                     )\n",
    "\n",
    "    x_test, y_test = mmg.generate_multiple_years_of_games([test_yr],\n",
    "                                     seeds_arr, \n",
    "                                     slots_arr, \n",
    "                                     tourney_arr, \n",
    "                                     column_names, \n",
    "                                     predictor_dfs\n",
    "                                     )\n",
    "\n",
    "    return x_train, y_train, x_test, y_test"
   ]
  },
  {
   "cell_type": "code",
   "execution_count": 33,
   "metadata": {
    "collapsed": true
   },
   "outputs": [],
   "source": [
    "x_train, y_train, x_test, y_test = train_test_split(3, 2008)"
   ]
  },
  {
   "cell_type": "code",
   "execution_count": 75,
   "metadata": {
    "collapsed": true
   },
   "outputs": [],
   "source": [
    "def cross_val_c(window):\n",
    "    col_names = ['0.0001', '0.001', '0.01', '.1', '1', '10', '100']\n",
    "    test_yr_range = range(2003 + window, 2016)\n",
    "    scores = pd.DataFrame(index=test_yr_range, columns = col_names)\n",
    "    \n",
    "    c_vals = range(-4, 3)\n",
    "\n",
    "    for yr in test_yr_range:\n",
    "        x_train, y_train, x_test, y_test = train_test_split(window, yr)\n",
    "        scaler = StandardScaler().fit(x_train.iloc[:, 2:])\n",
    "        for c in c_vals:\n",
    "            model = LogReg(C = 10**c)\n",
    "            model.fit(scaler.transform(x_train.iloc[:, 2:]), y_train.values.T[0])\n",
    "            scores.ix[yr, c+2] = model.score(scaler.transform(x_test.iloc[:, 2:]), y_test.values.T[0])\n",
    "    return scores"
   ]
  },
  {
   "cell_type": "code",
   "execution_count": 81,
   "metadata": {
    "collapsed": false
   },
   "outputs": [],
   "source": [
    "scores_w2 = cross_val_c(2)\n",
    "scores_w3 = cross_val_c(3)\n",
    "scores_w4 = cross_val_c(4)\n",
    "scores_w5 = cross_val_c(5)"
   ]
  },
  {
   "cell_type": "code",
   "execution_count": 82,
   "metadata": {
    "collapsed": false
   },
   "outputs": [
    {
     "data": {
      "text/plain": [
       "0.0001    0.712843\n",
       "0.001     0.712843\n",
       "0.01      0.705628\n",
       ".1        0.705628\n",
       "1         0.708514\n",
       "10        0.712843\n",
       "100       0.714286\n",
       "dtype: float64"
      ]
     },
     "execution_count": 82,
     "metadata": {},
     "output_type": "execute_result"
    }
   ],
   "source": [
    "scores_w2.mean()"
   ]
  },
  {
   "cell_type": "code",
   "execution_count": 83,
   "metadata": {
    "collapsed": false
   },
   "outputs": [
    {
     "data": {
      "text/plain": [
       "0.0001    0.711111\n",
       "0.001     0.707937\n",
       "0.01      0.704762\n",
       ".1        0.703175\n",
       "1         0.703175\n",
       "10        0.706349\n",
       "100       0.706349\n",
       "dtype: float64"
      ]
     },
     "execution_count": 83,
     "metadata": {},
     "output_type": "execute_result"
    }
   ],
   "source": [
    "scores_w3.mean()"
   ]
  },
  {
   "cell_type": "code",
   "execution_count": 84,
   "metadata": {
    "collapsed": false
   },
   "outputs": [
    {
     "data": {
      "text/plain": [
       "0.0001    0.723104\n",
       "0.001     0.710758\n",
       "0.01      0.716049\n",
       ".1        0.721340\n",
       "1         0.719577\n",
       "10        0.712522\n",
       "100       0.712522\n",
       "dtype: float64"
      ]
     },
     "execution_count": 84,
     "metadata": {},
     "output_type": "execute_result"
    }
   ],
   "source": [
    "scores_w4.mean()"
   ]
  },
  {
   "cell_type": "code",
   "execution_count": 85,
   "metadata": {
    "collapsed": false
   },
   "outputs": [
    {
     "data": {
      "text/plain": [
       "0.0001    0.712302\n",
       "0.001     0.708333\n",
       "0.01      0.698413\n",
       ".1        0.700397\n",
       "1         0.698413\n",
       "10        0.706349\n",
       "100       0.708333\n",
       "dtype: float64"
      ]
     },
     "execution_count": 85,
     "metadata": {},
     "output_type": "execute_result"
    }
   ],
   "source": [
    "scores_w5.mean()"
   ]
  }
 ],
 "metadata": {
  "kernelspec": {
   "display_name": "Python [Root]",
   "language": "python",
   "name": "Python [Root]"
  },
  "language_info": {
   "codemirror_mode": {
    "name": "ipython",
    "version": 2
   },
   "file_extension": ".py",
   "mimetype": "text/x-python",
   "name": "python",
   "nbconvert_exporter": "python",
   "pygments_lexer": "ipython2",
   "version": "2.7.12"
  }
 },
 "nbformat": 4,
 "nbformat_minor": 0
}
