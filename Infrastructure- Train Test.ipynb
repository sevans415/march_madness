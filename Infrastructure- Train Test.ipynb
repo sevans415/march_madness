{
 "cells": [
  {
   "cell_type": "code",
   "execution_count": 5,
   "metadata": {
    "collapsed": false
   },
   "outputs": [],
   "source": [
    "import march_madness_games as mmg\n",
    "import pandas as pd"
   ]
  },
  {
   "cell_type": "code",
   "execution_count": null,
   "metadata": {
    "collapsed": true
   },
   "outputs": [],
   "source": [
    "import march_madness_games as mmg\n",
    "import pandas as pd\n",
    "\n",
    "teams = pd.read_csv(\"datasets/kaggle_data/Teams.csv\")\n",
    "seeds = pd.read_csv(\"datasets/kaggle_data/TourneySeeds.csv\")\n",
    "slots = pd.read_csv(\"datasets/kaggle_data/TourneySlots.csv\")\n",
    "tourney_data = pd.read_csv(\"datasets/kaggle_data/TourneyCompactResults.csv\")\n",
    "regular_data = pd.read_csv(\"datasets/kaggle_data/RegularSeasonCompactResults.csv\")\n",
    "\n",
    "\n",
    "stationary = pd.read_csv(\"datasets/our_data/stationary\", index_col =0)\n",
    "avg_points_against =  pd.read_csv(\"datasets/our_data/avg_points_against\", index_col =0)\n",
    "avg_points_for = pd.read_csv(\"datasets/our_data/avg_points_for\", index_col =0)\n",
    "away_wins = pd.read_csv(\"datasets/our_data/away_wins\", index_col =0)\n",
    "bad_losses = pd.read_csv(\"datasets/our_data/bad_losses\", index_col =0)\n",
    "consistency= pd.read_csv(\"datasets/our_data/consistency\", index_col =0)\n",
    "dominance= pd.read_csv(\"datasets/our_data/dominance\", index_col =0)\n",
    "good_wins_matrix= pd.read_csv(\"datasets/our_data/good_wins_matrix\", index_col =0)\n",
    "rpi= pd.read_csv(\"datasets/our_data/rpi\", index_col =0)\n",
    "tough_wins= pd.read_csv(\"datasets/our_data/tough_wins\", index_col =0)\n",
    "win_percentage= pd.read_csv(\"datasets/our_data/win_percentage\", index_col =0)\n",
    "win_percentage_vs_tourney_teams_matrix= pd.read_csv(\"datasets/our_data/win_percentage_vs_tourney_teams_matrix\", index_col =0)\n",
    "wins_vs_tourney_teams= pd.read_csv(\"datasets/our_data/wins_vs_tourney_teams\", index_col =0)\n",
    "\n",
    "tourney_arr = mmg.filter_into_seasons(tourney_data)\n",
    "regular_arr = mmg.filter_into_seasons(regular_data)\n",
    "seeds_arr = mmg.filter_into_seasons(seeds)\n",
    "slots_arr = mmg.filter_into_seasons(slots)\n",
    "\n",
    "column_names = [\"min_index_id\", \"max_index_id\", \"wins_vs_tourney_teams dif\", \"stationary dif\"]\n",
    "\n",
    "predictor_dfs = [wins_vs_tourney_teams, stationary]\n",
    "\n",
    "window = 3\n",
    "test_yr = 2004\n",
    "\n",
    "def train_test_split(window, test_yr):\n",
    "    x_train, y_train = mmg.generate_multiple_years_of_games(range(test_yr - window, test_yr),\n",
    "                                     seeds_arr, \n",
    "                                     slots_arr, \n",
    "                                     tourney_arr, \n",
    "                                     column_names, \n",
    "                                     predictor_dfs\n",
    "                                     )\n",
    "\n",
    "    x_test, y_test = mmg.generate_multiple_years_of_games([test_yr],\n",
    "                                     seeds_arr, \n",
    "                                     slots_arr, \n",
    "                                     tourney_arr, \n",
    "                                     column_names, \n",
    "                                     predictor_dfs\n",
    "                                     )\n",
    "\n",
    "    return x_train, y_train, x_test, y_test"
   ]
  },
  {
   "cell_type": "code",
   "execution_count": 6,
   "metadata": {
    "collapsed": false
   },
   "outputs": [],
   "source": [
    "teams = pd.read_csv(\"datasets/kaggle_data/Teams.csv\")\n",
    "seeds = pd.read_csv(\"datasets/kaggle_data/TourneySeeds.csv\")\n",
    "slots = pd.read_csv(\"datasets/kaggle_data/TourneySlots.csv\")\n",
    "tourney_data = pd.read_csv(\"datasets/kaggle_data/TourneyCompactResults.csv\")\n",
    "regular_data = pd.read_csv(\"datasets/kaggle_data/RegularSeasonCompactResults.csv\")"
   ]
  },
  {
   "cell_type": "code",
   "execution_count": 11,
   "metadata": {
    "collapsed": true
   },
   "outputs": [],
   "source": [
    "stationary = pd.read_csv(\"datasets/our_data/stationary\", index_col =0)\n",
    "avg_points_against =  pd.read_csv(\"datasets/our_data/avg_points_against\", index_col =0)\n",
    "avg_points_for = pd.read_csv(\"datasets/our_data/avg_points_for\", index_col =0)\n",
    "away_wins = pd.read_csv(\"datasets/our_data/away_wins\", index_col =0)\n",
    "bad_losses = pd.read_csv(\"datasets/our_data/bad_losses\", index_col =0)\n",
    "consistency= pd.read_csv(\"datasets/our_data/consistency\", index_col =0)\n",
    "dominance= pd.read_csv(\"datasets/our_data/dominance\", index_col =0)\n",
    "good_wins_matrix= pd.read_csv(\"datasets/our_data/good_wins_matrix\", index_col =0)\n",
    "rpi= pd.read_csv(\"datasets/our_data/rpi\", index_col =0)\n",
    "tough_wins= pd.read_csv(\"datasets/our_data/tough_wins\", index_col =0)\n",
    "win_percentage= pd.read_csv(\"datasets/our_data/win_percentage\", index_col =0)\n",
    "win_percentage_vs_tourney_teams_matrix= pd.read_csv(\"datasets/our_data/win_percentage_vs_tourney_teams_matrix\", index_col =0)\n",
    "wins_vs_tourney_teams= pd.read_csv(\"datasets/our_data/wins_vs_tourney_teams\", index_col =0)"
   ]
  },
  {
   "cell_type": "code",
   "execution_count": 18,
   "metadata": {
    "collapsed": false
   },
   "outputs": [],
   "source": [
    "tourney_arr = mmg.filter_into_seasons(tourney_data)\n",
    "regular_arr = mmg.filter_into_seasons(regular_data)\n",
    "seeds_arr = mmg.filter_into_seasons(seeds)\n",
    "slots_arr = mmg.filter_into_seasons(slots)\n",
    "\n",
    "column_names = [\"min_index_id\", \"max_index_id\", \"wins_vs_tourney_teams dif\", \"stationary dif\"]\n",
    "\n",
    "predictor_dfs = [wins_vs_tourney_teams, stationary]\n",
    "\n",
    "window = 3\n",
    "test_yr = 2004\n",
    "\n",
    "def train_test_split(window, test_yr):\n",
    "    x_train, y_train = mmg.generate_multiple_years_of_games(range(test_yr - window, test_yr),\n",
    "                                     seeds_arr, \n",
    "                                     slots_arr, \n",
    "                                     tourney_arr, \n",
    "                                     column_names, \n",
    "                                     predictor_dfs\n",
    "                                     )\n",
    "\n",
    "    x_test, y_test = mmg.generate_multiple_years_of_games([test_yr],\n",
    "                                     seeds_arr, \n",
    "                                     slots_arr, \n",
    "                                     tourney_arr, \n",
    "                                     column_names, \n",
    "                                     predictor_dfs\n",
    "                                     )\n",
    "\n",
    "    return x_train, y_train, x_test, y_test"
   ]
  }
 ],
 "metadata": {
  "anaconda-cloud": {},
  "kernelspec": {
   "display_name": "Python [Root]",
   "language": "python",
   "name": "Python [Root]"
  },
  "language_info": {
   "codemirror_mode": {
    "name": "ipython",
    "version": 2
   },
   "file_extension": ".py",
   "mimetype": "text/x-python",
   "name": "python",
   "nbconvert_exporter": "python",
   "pygments_lexer": "ipython2",
   "version": "2.7.12"
  }
 },
 "nbformat": 4,
 "nbformat_minor": 0
}
